{
  "nbformat": 4,
  "nbformat_minor": 0,
  "metadata": {
    "colab": {
      "provenance": [],
      "authorship_tag": "ABX9TyPD9qfpXJ8f4CZSdB6ohWMh",
      "include_colab_link": true
    },
    "kernelspec": {
      "name": "python3",
      "display_name": "Python 3"
    },
    "language_info": {
      "name": "python"
    }
  },
  "cells": [
    {
      "cell_type": "markdown",
      "metadata": {
        "id": "view-in-github",
        "colab_type": "text"
      },
      "source": [
        "<a href=\"https://colab.research.google.com/github/DiegoGielda/Python/blob/develop/Modulo_01_Comandos_iniciais.ipynb\" target=\"_parent\"><img src=\"https://colab.research.google.com/assets/colab-badge.svg\" alt=\"Open In Colab\"/></a>"
      ]
    },
    {
      "cell_type": "markdown",
      "source": [
        "## Comandos em Python"
      ],
      "metadata": {
        "id": "J08TvYsDBr17"
      }
    },
    {
      "cell_type": "markdown",
      "source": [
        "### 1. Impressão de código"
      ],
      "metadata": {
        "id": "PMrRePJ78VMl"
      }
    },
    {
      "cell_type": "code",
      "source": [
        "print(\"Impressão de valor\")"
      ],
      "metadata": {
        "colab": {
          "base_uri": "https://localhost:8080/"
        },
        "id": "sk9LUVqg8-ke",
        "outputId": "775e7e12-838f-4476-f8f8-773897662331"
      },
      "execution_count": 1,
      "outputs": [
        {
          "output_type": "stream",
          "name": "stdout",
          "text": [
            "Impressão de valor\n"
          ]
        }
      ]
    }
  ]
}